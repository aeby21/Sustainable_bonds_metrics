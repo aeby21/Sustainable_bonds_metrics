{
 "cells": [
  {
   "cell_type": "markdown",
   "metadata": {},
   "source": [
    "### This jupyter notebook will transfer all the nececcary data from the Excel shhet to the a database in PostgreSQL"
   ]
  },
  {
   "cell_type": "markdown",
   "metadata": {},
   "source": [
    "## Package installation"
   ]
  },
  {
   "cell_type": "code",
   "execution_count": 1,
   "metadata": {},
   "outputs": [],
   "source": [
    "from sqlalchemy import create_engine\n",
    "from sqlalchemy import text\n",
    "import pandas as pd\n",
    "import numpy as np\n",
    "import os"
   ]
  },
  {
   "cell_type": "code",
   "execution_count": 2,
   "metadata": {},
   "outputs": [],
   "source": [
    "# Define the connection parameters (as in the Dockerfile)\n",
    "user = 'postgres'\n",
    "password = 'sustainable'\n",
    "db = 'sustainable_bonds_db'\n",
    "host = 'db'\n",
    "port = '5432'\n",
    "\n",
    "# Create the connection URL\n",
    "connection_url = f'postgresql+psycopg2://{user}:{password}@{host}:{port}/{db}'"
   ]
  },
  {
   "cell_type": "code",
   "execution_count": 3,
   "metadata": {},
   "outputs": [],
   "source": [
    "# Create the engine\n",
    "engine = create_engine(connection_url)"
   ]
  },
  {
   "cell_type": "code",
   "execution_count": 4,
   "metadata": {},
   "outputs": [],
   "source": [
    "# Read the Excel file\n",
    "cwd=os.getcwd()\n",
    "df_AllBonds=pd.read_excel('Daten Sustainable Bonds Bloomberg.xlsx')"
   ]
  },
  {
   "cell_type": "code",
   "execution_count": 6,
   "metadata": {},
   "outputs": [
    {
     "name": "stdout",
     "output_type": "stream",
     "text": [
      "<class 'pandas.core.frame.DataFrame'>\n",
      "RangeIndex: 4078 entries, 0 to 4077\n",
      "Data columns (total 27 columns):\n",
      " #   Column                  Non-Null Count  Dtype         \n",
      "---  ------                  --------------  -----         \n",
      " 0   emittent                4077 non-null   object        \n",
      " 1   identifier              4077 non-null   object        \n",
      " 2   parent_id               4077 non-null   object        \n",
      " 3   ticker                  4077 non-null   object        \n",
      " 4   sust_linked             4077 non-null   float64       \n",
      " 5   social_bond             4077 non-null   float64       \n",
      " 6   green_instrument        4077 non-null   float64       \n",
      " 7   sitzland                4077 non-null   object        \n",
      " 8   ausg_menge              3972 non-null   float64       \n",
      " 9   maturity                4077 non-null   float64       \n",
      " 10  emissionsdatum          4077 non-null   datetime64[ns]\n",
      " 11  bics_level_1            4077 non-null   object        \n",
      " 12  kpn                     4037 non-null   float64       \n",
      " 13  faelligkeit             4077 non-null   object        \n",
      " 14  Serie                   4077 non-null   object        \n",
      " 15  BBG Composite           2131 non-null   object        \n",
      " 16  faell_typ               4077 non-null   object        \n",
      " 17  waehrung                4077 non-null   object        \n",
      " 18  Emissionsdatum -1 Jahr  4077 non-null   datetime64[ns]\n",
      " 19  total_assets            4078 non-null   int64         \n",
      " 20  MarketCap               3733 non-null   object        \n",
      " 21  tobinsq                 1842 non-null   float64       \n",
      " 22  lt_leverage             2588 non-null   float64       \n",
      " 23  cf_to_asset             2367 non-null   float64       \n",
      " 24  roa                     1986 non-null   float64       \n",
      " 25  roe                     1982 non-null   float64       \n",
      " 26  trbc_es                 4043 non-null   object        \n",
      "dtypes: datetime64[ns](2), float64(11), int64(1), object(13)\n",
      "memory usage: 860.3+ KB\n",
      "None\n",
      "<class 'pandas.core.frame.DataFrame'>\n",
      "RangeIndex: 4078 entries, 0 to 4077\n",
      "Data columns (total 23 columns):\n",
      " #   Column            Non-Null Count  Dtype         \n",
      "---  ------            --------------  -----         \n",
      " 0   emittent          4077 non-null   object        \n",
      " 1   cf_to_asset       2367 non-null   float64       \n",
      " 2   parent_id         4077 non-null   object        \n",
      " 3   sust_linked       4077 non-null   float64       \n",
      " 4   identifier        4077 non-null   object        \n",
      " 5   ticker            4077 non-null   object        \n",
      " 6   social_bond       4077 non-null   float64       \n",
      " 7   green_instrument  4077 non-null   float64       \n",
      " 8   sitzland          4077 non-null   object        \n",
      " 9   ausg_menge        3972 non-null   float64       \n",
      " 10  maturity          4077 non-null   float64       \n",
      " 11  emissionsdatum    4077 non-null   datetime64[ns]\n",
      " 12  bics_level_1      4077 non-null   object        \n",
      " 13  kpn               4037 non-null   float64       \n",
      " 14  faelligkeit       4077 non-null   object        \n",
      " 15  faell_typ         4077 non-null   object        \n",
      " 16  waehrung          4077 non-null   object        \n",
      " 17  total_assets      4078 non-null   int64         \n",
      " 18  tobinsq           1842 non-null   float64       \n",
      " 19  roa               1986 non-null   float64       \n",
      " 20  roe               1982 non-null   float64       \n",
      " 21  lt_leverage       2588 non-null   float64       \n",
      " 22  trbc_es           4043 non-null   object        \n",
      "dtypes: datetime64[ns](1), float64(11), int64(1), object(10)\n",
      "memory usage: 732.9+ KB\n",
      "None\n"
     ]
    }
   ],
   "source": [
    "# rename the columns so they match the SQL table and transfer all the data\n",
    "\n",
    "df_AllBonds=df_AllBonds.rename(columns={'Emittent': 'emittent'})\n",
    "df_AllBonds=df_AllBonds.rename(columns={'ParentID': 'parent_id'})\n",
    "df_AllBonds=df_AllBonds.rename(columns={'Sust Linked': 'sust_linked'})\n",
    "df_AllBonds=df_AllBonds.rename(columns={'Identifier': 'identifier'})\n",
    "df_AllBonds=df_AllBonds.rename(columns={'Ticker': 'ticker'})\n",
    "df_AllBonds=df_AllBonds.rename(columns={'Social Bond': 'social_bond'})\n",
    "df_AllBonds=df_AllBonds.rename(columns={'Green Instrument': 'green_instrument'})\n",
    "df_AllBonds=df_AllBonds.rename(columns={'Sitzland': 'sitzland'})\n",
    "df_AllBonds=df_AllBonds.rename(columns={'Ausg. Mge': 'ausg_menge'})\n",
    "df_AllBonds=df_AllBonds.rename(columns={'Maturity': 'maturity'})\n",
    "df_AllBonds=df_AllBonds.rename(columns={'Emissionsdatum': 'emissionsdatum'})\n",
    "df_AllBonds=df_AllBonds.rename(columns={'BICS Level 1': 'bics_level_1'})\n",
    "df_AllBonds=df_AllBonds.rename(columns={'Kpn': 'kpn'})\n",
    "df_AllBonds=df_AllBonds.rename(columns={'Fälligkeit': 'faelligkeit'})\n",
    "df_AllBonds=df_AllBonds.rename(columns={'FällTyp': 'faell_typ'})\n",
    "df_AllBonds=df_AllBonds.rename(columns={'Währungen': 'waehrung'})\n",
    "df_AllBonds=df_AllBonds.rename(columns={'TotalAssets': 'total_assets'})\n",
    "df_AllBonds=df_AllBonds.rename(columns={'TobinsQ': 'tobinsq'})\n",
    "df_AllBonds=df_AllBonds.rename(columns={'ROA': 'roa'})\n",
    "df_AllBonds=df_AllBonds.rename(columns={'ROE': 'roe'})\n",
    "df_AllBonds=df_AllBonds.rename(columns={'LTLeverage': 'lt_leverage'})\n",
    "df_AllBonds=df_AllBonds.rename(columns={'TRBC_ES': 'trbc_es'})\n",
    "df_AllBonds=df_AllBonds.rename(columns={'CFtoAsset': 'cf_to_asset'})\n",
    "#df_AllBonds['sust_linked'] = df_AllBonds['sust_linked'].astype(bool)\n",
    "df_AllBonds['total_assets'] = pd.to_numeric(df_AllBonds['total_assets'], errors='coerce').fillna(0).astype(int)\n",
    "df_AllBonds['roa'] = pd.to_numeric(df_AllBonds['roa'], errors='coerce')\n",
    "df_AllBonds['roe'] = pd.to_numeric(df_AllBonds['roe'], errors='coerce')\n",
    "df_AllBonds['lt_leverage'] = pd.to_numeric(df_AllBonds['lt_leverage'], errors='coerce')\n",
    "df_AllBonds['tobinsq'] = pd.to_numeric(df_AllBonds['tobinsq'], errors='coerce')\n",
    "df_AllBonds['cf_to_asset'] = pd.to_numeric(df_AllBonds['cf_to_asset'], errors='coerce')\n",
    "\n",
    "\n",
    "print(df_AllBonds.info())\n",
    "df_selection=df_AllBonds[[\"emittent\",\"cf_to_asset\",\"parent_id\",\"sust_linked\",\"identifier\",'ticker','social_bond','green_instrument','sitzland','ausg_menge','maturity','emissionsdatum','bics_level_1','kpn','faelligkeit','faell_typ','waehrung','total_assets','tobinsq','roa','roe','lt_leverage','trbc_es']]\n",
    "\n",
    "print(df_selection.info())\n",
    "with engine.connect() as connection:\n",
    "    df_selection.to_sql(name=\"bonds_table\", con=connection,\n",
    "                if_exists=\"append\", index=False)"
   ]
  },
  {
   "cell_type": "code",
   "execution_count": null,
   "metadata": {},
   "outputs": [],
   "source": []
  }
 ],
 "metadata": {
  "kernelspec": {
   "display_name": "Python 3 (ipykernel)",
   "language": "python",
   "name": "python3"
  },
  "language_info": {
   "codemirror_mode": {
    "name": "ipython",
    "version": 3
   },
   "file_extension": ".py",
   "mimetype": "text/x-python",
   "name": "python",
   "nbconvert_exporter": "python",
   "pygments_lexer": "ipython3",
   "version": "3.11.6"
  }
 },
 "nbformat": 4,
 "nbformat_minor": 4
}
